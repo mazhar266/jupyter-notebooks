{
 "cells": [
  {
   "cell_type": "markdown",
   "id": "80b7e784-6377-4428-8e7c-272956c49835",
   "metadata": {},
   "source": [
    "# Evaly liquid money calculator"
   ]
  },
  {
   "cell_type": "code",
   "execution_count": 7,
   "id": "6d0cad98-91a9-458d-a975-97fbc71f9d73",
   "metadata": {},
   "outputs": [
    {
     "name": "stdout",
     "output_type": "stream",
     "text": [
      "Aprilia FX-150 150 CC Motorbike\n",
      "Runner UM XTREET 150CC Motorbike\n",
      "RUNNER BOLT 165CC Motorbike\n",
      "RUNNER KNIGHT-RIDER- V2 150CC Motorbike\n",
      "RUNNER KNIGHT-RIDER 150CC Motorbike\n",
      "RUNNER TURBO 125CC Motorbike\n",
      "RUNNER ROYAL-PLUS 110CC Motorbike\n",
      "RUNNER KITE-PLUS 110CC Motorbike\n",
      "RUNNER SKOOTY 110CC Motorbike\n",
      "RUNNER BULLET- V2 100CC Motorbike\n",
      "RUNNER AD80S-DELUXE 80CC Motorbike\n",
      "Bajaj Discover 110cc Disc Motorbike\n",
      "Bajaj Discover 125CC Motorbike\n",
      "Bajaj Pulsar 150cc Double Disk Motorbike\n",
      "Bajaj Pulsar 150cc Single Disk Motorbike\n",
      "Bajaj Platina ES 102CC Motorbike\n",
      "Bajaj CT 100CC ES Motorbike\n",
      "Yamaha R15 V3 Indonesia 2021 Silver\n",
      "Yamaha R15 V3.0 Indian\n",
      "Yamaha XSR 155 CC\n",
      "Yamaha MT-15 Indian Version Motorbike\n",
      "Yamaha FZS V3 FI BS6 Motorbike\n",
      "Honda CBR 150R TRICOLOR\n",
      "Honda HORNET 160R ABS Motorbike\n",
      "Honda XBLADE-160cc STD Motorbike\n",
      "Honda LIVO DISC-110cc Motorbike\n",
      "Honda CB Shine SP 125cc Motorbike\n",
      "LIFAN K19-165 Motorbike\n",
      "LIFAN KPR-165R (EFI) Motorbike\n",
      "LIFAN KPR-165R (CARBURATOR) Motorbike\n",
      "LIFAN XPECT 150 Motorbike\n",
      "LIFAN KRP-150 (CBS) Motorbike\n",
      "HPower Scooter 125cc\n",
      "HPower Zaara 100cc Black\n",
      "HPower Star-80 cc\n",
      "HPOWER MAX Z 150cc: Black & White\n",
      "TVS Max 125 cc Motorbike\n",
      "TVS Apache RTR 160 cc SD (Race Edition)\n",
      "TVS Radeon 110 cc Motorbike\n",
      "Suzuki GSX-R150 2021 Non ABS\n",
      "FKM Street Fighter- 165cc\n",
      "GPX DEMON GR- 165R\n",
      "Magic Hose Pipe For Watering (150 feet)\n",
      "Magic Hose Pipe 100 Feet\n",
      "MAGIC HOSE PIPE - 200 FEET\n",
      "Cow Leather Key Ring\n",
      "AUTO GREEN (AQA GOLD) FULL FACE HELMET Red -COLOR\n",
      "AUTO GREEN (AQA GOLD) FULL FACE HELMET Blue -COLOR\n",
      "AUTO GREEN (AQA GOLD) FULL FACE HELMET Green - COLOR\n",
      "AUTO GREEN (X-7) FULL FACE SPORTS HELMET Blue. COLOR\n",
      "AUTO GREEN (X-7) FULL FACE SPORTS HELMET Red COLOR\n",
      "AUTO GREEN (X-7) FULL FACE SPORTS HELMET Black COLOR\n",
      "AUTO GREEN (AQA) FULL FACE HELMET\n",
      "ENEOS Motorcycle Oil 4T 20W-40 -(Mineral)-12 PC (12x1L)\n",
      "ENEOS Motorcycle Oil 4T 20W-50 -(Mineral)-12 PC (12x1L)\n",
      "MIBK Open Full Face 603 Helmet Blue\n",
      "MIBK Open Full Face 603 Helmet Red\n",
      "MIBK Open Full Face 603 Helmet Black\n",
      "awei Car Charger C707 White or Black\n",
      "SUZUKI PRINTED WIND BREAKER, MONSTAR PRINTED POLO-SHIRT (LONG SLEEVE), MONSTAR PRINTED POLO-SHIRT (SHORT SLEEVE) COMBO PACK\n",
      "PULSAR PRINTED WIND BREAKER, PULSAR PRINTED POLO-SHIRT (LONG SLEEVE), PULSAR PRINTED POLO-SHIRT (SHORT SLEEVE) COMBO PACK\n",
      "ENEOS PRINTED WIND BREAKER, YAMAHA PRINTED POLO-SHIRT (LONG SLEEVE), YAMAHA PRINTED POLO-SHIRT (SHORT SLEEVE) COMBO PACK\n"
     ]
    }
   ],
   "source": [
    "using JSON\n",
    "\n",
    "# parse the product list from json file\n",
    "products = JSON.parsefile(\"./data/products.json\")\n",
    "\n",
    "for product in products\n",
    "    println(product[\"name\"])\n",
    "end"
   ]
  },
  {
   "cell_type": "markdown",
   "id": "3ee06d2d-3d25-4851-9ff1-f4fd2942f47b",
   "metadata": {},
   "source": [
    "## How many monthly campaigns?"
   ]
  },
  {
   "cell_type": "code",
   "execution_count": 8,
   "id": "a871d532-7794-4459-b24f-29c1b1f3b1b0",
   "metadata": {},
   "outputs": [
    {
     "name": "stdin",
     "output_type": "stream",
     "text": [
      "stdin>  4\n"
     ]
    },
    {
     "data": {
      "text/plain": [
       "\"4\""
      ]
     },
     "execution_count": 8,
     "metadata": {},
     "output_type": "execute_result"
    }
   ],
   "source": [
    "campaigns = readline()"
   ]
  },
  {
   "cell_type": "markdown",
   "id": "ff7b3d3e-a24a-45d3-8e13-1a7817666742",
   "metadata": {},
   "source": [
    "## How many orders per campaign?"
   ]
  },
  {
   "cell_type": "code",
   "execution_count": 4,
   "id": "637a967a-aa9a-4a29-9209-f5dc68748eca",
   "metadata": {},
   "outputs": [
    {
     "name": "stdin",
     "output_type": "stream",
     "text": [
      "stdin>  11\n"
     ]
    },
    {
     "data": {
      "text/plain": [
       "\"11\""
      ]
     },
     "execution_count": 4,
     "metadata": {},
     "output_type": "execute_result"
    }
   ],
   "source": [
    "orders = readline()"
   ]
  },
  {
   "cell_type": "code",
   "execution_count": null,
   "id": "b0357490-c9a0-4aa4-8fdd-8199f1e7d35a",
   "metadata": {},
   "outputs": [],
   "source": []
  }
 ],
 "metadata": {
  "kernelspec": {
   "display_name": "Julia 1.6.1",
   "language": "julia",
   "name": "julia-1.6"
  },
  "language_info": {
   "file_extension": ".jl",
   "mimetype": "application/julia",
   "name": "julia",
   "version": "1.6.1"
  }
 },
 "nbformat": 4,
 "nbformat_minor": 5
}
