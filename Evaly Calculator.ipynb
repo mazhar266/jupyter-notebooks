{
 "cells": [
  {
   "cell_type": "markdown",
   "id": "80b7e784-6377-4428-8e7c-272956c49835",
   "metadata": {},
   "source": [
    "# Evaly liquid money calculator"
   ]
  },
  {
   "cell_type": "code",
   "execution_count": null,
   "id": "6d0cad98-91a9-458d-a975-97fbc71f9d73",
   "metadata": {},
   "outputs": [],
   "source": []
  }
 ],
 "metadata": {
  "kernelspec": {
   "display_name": "Julia 1.6.1",
   "language": "julia",
   "name": "julia-1.6"
  },
  "language_info": {
   "file_extension": ".jl",
   "mimetype": "application/julia",
   "name": "julia",
   "version": "1.6.1"
  }
 },
 "nbformat": 4,
 "nbformat_minor": 5
}
