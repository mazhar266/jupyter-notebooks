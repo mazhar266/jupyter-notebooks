{
 "cells": [
  {
   "cell_type": "markdown",
   "metadata": {},
   "source": [
    "# Zakat Calculator\n",
    "\n",
    "This is a simple Zakat calculator for calculating Zakat from your savings"
   ]
  },
  {
   "cell_type": "code",
   "execution_count": 27,
   "metadata": {},
   "outputs": [],
   "source": [
    "import locale\n",
    "from calendar import monthrange\n",
    "from datetime import datetime, timedelta\n",
    "from IPython.display import display, Markdown, Latex\n",
    "\n",
    "locale.setlocale( locale.LC_ALL, '' )\n",
    "\n",
    "\n",
    "def monthdelta(date_1, date_2):\n",
    "    delta = 0\n",
    "    while True:\n",
    "        month_days = monthrange(date_1.year, date_1.month)[1]\n",
    "        date_1 += timedelta(days=month_days)\n",
    "        if date_1 <= date_2:\n",
    "            delta += 1\n",
    "        else:\n",
    "            break\n",
    "    return delta"
   ]
  },
  {
   "cell_type": "markdown",
   "metadata": {},
   "source": [
    "##### How much gold (in Vori / Tola) do you have?"
   ]
  },
  {
   "cell_type": "code",
   "execution_count": 28,
   "metadata": {},
   "outputs": [],
   "source": [
    "gold = 10"
   ]
  },
  {
   "cell_type": "markdown",
   "metadata": {},
   "source": [
    "##### What is the price of gold (1 Vori / Tola)?"
   ]
  },
  {
   "cell_type": "code",
   "execution_count": 29,
   "metadata": {},
   "outputs": [],
   "source": [
    "price = 50000"
   ]
  },
  {
   "cell_type": "code",
   "execution_count": 30,
   "metadata": {},
   "outputs": [
    {
     "name": "stdout",
     "output_type": "stream",
     "text": [
      "Gold Price is 500,000.00 /=\n"
     ]
    }
   ],
   "source": [
    "gold_price = gold * price\n",
    "print(\"Gold Price is\", locale.currency(gold_price, grouping=True)[1:], \"/=\")\n",
    "total_price = gold_price"
   ]
  },
  {
   "cell_type": "markdown",
   "metadata": {},
   "source": [
    "##### How many fixed diposite do you have?"
   ]
  },
  {
   "cell_type": "code",
   "execution_count": 36,
   "metadata": {},
   "outputs": [
    {
     "name": "stdout",
     "output_type": "stream",
     "text": [
      "Amount for 25000 tk FDR is 900,000.00 /=\n",
      "Amount for 23000 tk FDR is 552,000.00 /=\n"
     ]
    }
   ],
   "source": [
    "fdrs = [{\n",
    "    # UCB FDS - closed\n",
    "    \"amount\": 25000,\n",
    "    \"start\": \"2018-01-01\",\n",
    "    \"end\": \"2021-01-01\"\n",
    "}, {\n",
    "    # metlife insurance\n",
    "    \"amount\": 23000,\n",
    "    \"start\": \"2019-03-01\",\n",
    "    \"end\": \"-\" # now / on going\n",
    "}]\n",
    "\n",
    "for fdr in fdrs:\n",
    "    # convert to datetime\n",
    "    # start date\n",
    "    fdr[\"start\"] = datetime.strptime(fdr[\"start\"], '%Y-%m-%d')\n",
    "    # check if end date is not reached or not\n",
    "    if fdr[\"end\"] == \"-\":\n",
    "        fdr[\"end\"] = datetime.now()\n",
    "    else:\n",
    "        fdr[\"end\"] = datetime.strptime(fdr[\"end\"], '%Y-%m-%d')\n",
    "\n",
    "    # calculate\n",
    "    months = monthdelta(fdr[\"start\"], fdr[\"end\"])\n",
    "    amount = months * fdr[\"amount\"]\n",
    "    print(\"Amount for\", fdr[\"amount\"], \"tk FDR is\", locale.currency(amount, grouping=True)[1:], \"/=\")\n",
    "    total_price += amount\n"
   ]
  },
  {
   "cell_type": "markdown",
   "metadata": {},
   "source": [
    "##### How many DPS do you have?"
   ]
  },
  {
   "cell_type": "code",
   "execution_count": 32,
   "metadata": {},
   "outputs": [
    {
     "name": "stdout",
     "output_type": "stream",
     "text": [
      "You have in total 4,122,000.00 /=\n"
     ]
    }
   ],
   "source": [
    "dpses = [\n",
    "    120000, # exim bank\n",
    "    50000, # exim bank\n",
    "    1400000 # Baba gave Melody\n",
    "    500000 # Melody's ADB payments\n",
    "    200000 # Melody's savings\n",
    "]\n",
    "total_price += sum(dpses)\n",
    "print(\"You have in total\", locale.currency(total_price, grouping=True)[1:], \"/=\")"
   ]
  },
  {
   "cell_type": "code",
   "execution_count": 33,
   "metadata": {},
   "outputs": [
    {
     "data": {
      "text/markdown": [
       "## Your Zakat For This Year is 103,050.00 /-"
      ],
      "text/plain": [
       "<IPython.core.display.Markdown object>"
      ]
     },
     "metadata": {},
     "output_type": "display_data"
    }
   ],
   "source": [
    "zakat = 0.025 * total_price\n",
    "display(Markdown(\"## Your Zakat For This Year is \" + locale.currency(zakat, grouping=True)[1:] + \" /-\"))"
   ]
  },
  {
   "cell_type": "code",
   "execution_count": null,
   "metadata": {},
   "outputs": [],
   "source": []
  }
 ],
 "metadata": {
  "kernelspec": {
   "display_name": "Python 3",
   "language": "python",
   "name": "python3"
  },
  "language_info": {
   "codemirror_mode": {
    "name": "ipython",
    "version": 3
   },
   "file_extension": ".py",
   "mimetype": "text/x-python",
   "name": "python",
   "nbconvert_exporter": "python",
   "pygments_lexer": "ipython3",
   "version": "3.9.1"
  }
 },
 "nbformat": 4,
 "nbformat_minor": 4
}
