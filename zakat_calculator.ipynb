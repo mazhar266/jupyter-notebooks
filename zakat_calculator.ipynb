{
 "cells": [
  {
   "cell_type": "markdown",
   "metadata": {},
   "source": [
    "# Zakat Calculator\n",
    "\n",
    "This is a simple Zakat calculator for calculating Zakat from your savings"
   ]
  },
  {
   "cell_type": "code",
   "execution_count": 108,
   "metadata": {},
   "outputs": [],
   "source": [
    "import locale\n",
    "from calendar import monthrange\n",
    "from datetime import datetime, timedelta\n",
    "from IPython.display import display, Markdown, Latex\n",
    "\n",
    "locale.setlocale( locale.LC_ALL, '' )\n",
    "\n",
    "\n",
    "def monthdelta(date_1, date_2):\n",
    "    delta = 0\n",
    "    while True:\n",
    "        month_days = monthrange(date_1.year, date_1.month)[1]\n",
    "        date_1 += timedelta(days=month_days)\n",
    "        if date_1 <= date_2:\n",
    "            delta += 1\n",
    "        else:\n",
    "            break\n",
    "    return delta"
   ]
  },
  {
   "cell_type": "markdown",
   "metadata": {},
   "source": [
    "##### How much gold do you have?"
   ]
  },
  {
   "cell_type": "code",
   "execution_count": 109,
   "metadata": {},
   "outputs": [],
   "source": [
    "gold = 10"
   ]
  },
  {
   "cell_type": "markdown",
   "metadata": {},
   "source": [
    "##### What is the price of gold?"
   ]
  },
  {
   "cell_type": "code",
   "execution_count": 110,
   "metadata": {},
   "outputs": [],
   "source": [
    "price = 50000"
   ]
  },
  {
   "cell_type": "code",
   "execution_count": 111,
   "metadata": {},
   "outputs": [
    {
     "name": "stdout",
     "output_type": "stream",
     "text": [
      "Gold Price is 500,000.00 /=\n"
     ]
    }
   ],
   "source": [
    "gold_price = gold * price\n",
    "print(\"Gold Price is\", locale.currency(gold_price, grouping=True)[1:], \"/=\")\n",
    "total_price = gold_price"
   ]
  },
  {
   "cell_type": "markdown",
   "metadata": {},
   "source": [
    "##### How many fixed diposite do you have?"
   ]
  },
  {
   "cell_type": "code",
   "execution_count": 112,
   "metadata": {},
   "outputs": [
    {
     "name": "stdout",
     "output_type": "stream",
     "text": [
      "Amount for 1 FDR is 125,000.00 /=\n"
     ]
    }
   ],
   "source": [
    "fdrs = [25000, ]\n",
    "fdr_start_days = [\"2018-01-01\", ]\n",
    "for index, fdr in enumerate(fdrs):\n",
    "    fdr_start_day = datetime.strptime(fdr_start_days [index], '%Y-%m-%d')\n",
    "    months = monthdelta(fdr_start_day, datetime.now())\n",
    "    amount = months * fdr\n",
    "    print(\"Amount for\", index + 1, \"FDR is\", locale.currency(amount, grouping=True)[1:], \"/=\")\n",
    "    total_price += amount"
   ]
  },
  {
   "cell_type": "markdown",
   "metadata": {},
   "source": [
    "##### How many DPS do you have?"
   ]
  },
  {
   "cell_type": "code",
   "execution_count": 113,
   "metadata": {},
   "outputs": [
    {
     "name": "stdout",
     "output_type": "stream",
     "text": [
      "You have in total 795,000.00 /=\n"
     ]
    }
   ],
   "source": [
    "dpses = [120000, 50000, ]\n",
    "total_price += sum(dpses)\n",
    "print(\"You have in total\", locale.currency(total_price, grouping=True)[1:], \"/=\")"
   ]
  },
  {
   "cell_type": "code",
   "execution_count": 114,
   "metadata": {},
   "outputs": [
    {
     "data": {
      "text/markdown": [
       "## Your Zakat For This Year is 19,875.00 /-"
      ],
      "text/plain": [
       "<IPython.core.display.Markdown object>"
      ]
     },
     "metadata": {},
     "output_type": "display_data"
    }
   ],
   "source": [
    "zakat = 0.025 * total_price\n",
    "display(Markdown(\"## Your Zakat For This Year is \" + locale.currency(zakat, grouping=True)[1:] + \" /-\"))"
   ]
  }
 ],
 "metadata": {
  "kernelspec": {
   "display_name": "Python 3",
   "language": "python",
   "name": "python3"
  },
  "language_info": {
   "codemirror_mode": {
    "name": "ipython",
    "version": 3
   },
   "file_extension": ".py",
   "mimetype": "text/x-python",
   "name": "python",
   "nbconvert_exporter": "python",
   "pygments_lexer": "ipython3",
   "version": "3.6.5"
  }
 },
 "nbformat": 4,
 "nbformat_minor": 2
}
